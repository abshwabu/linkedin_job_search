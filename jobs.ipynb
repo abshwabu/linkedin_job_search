{
 "cells": [
  {
   "cell_type": "code",
   "execution_count": 5,
   "metadata": {},
   "outputs": [
    {
     "name": "stdout",
     "output_type": "stream",
     "text": [
      "Jobs have been successfully saved to 'laravel_jobs.csv'.\n"
     ]
    }
   ],
   "source": [
    "import csv\n",
    "from selenium import webdriver\n",
    "from selenium.webdriver.chrome.service import Service\n",
    "from webdriver_manager.chrome import ChromeDriverManager\n",
    "from selenium.webdriver.common.by import By\n",
    "\n",
    "# Set up the Chrome driver using webdriver_manager\n",
    "driver = webdriver.Chrome(service=Service(ChromeDriverManager().install()))\n",
    "\n",
    "# Open LinkedIn jobs search page\n",
    "driver.get(\"https://www.linkedin.com/jobs/search?keywords=Laravel&location=Worldwide\")\n",
    "\n",
    "# Wait for the page to load\n",
    "driver.implicitly_wait(10)  # Waits for 10 seconds max\n",
    "\n",
    "# Extract job titles and job links\n",
    "job_cards = driver.find_elements(By.CLASS_NAME, 'base-card__full-link')  # Each job card contains title and link\n",
    "\n",
    "# Open a CSV file to write the job data\n",
    "with open('laravel_jobs.csv', mode='w', newline='', encoding='utf-8') as file:\n",
    "    writer = csv.writer(file)\n",
    "    writer.writerow(['Job Title', 'Job Link'])  # Writing the header\n",
    "\n",
    "    # Writing job titles and links to the CSV file\n",
    "    for job in job_cards:\n",
    "        title = job.text\n",
    "        link = job.get_attribute('href')\n",
    "        writer.writerow([title, link])\n",
    "\n",
    "# Close the driver\n",
    "driver.quit()\n",
    "\n",
    "print(\"Jobs have been successfully saved to 'laravel_jobs.csv'.\")\n"
   ]
  }
 ],
 "metadata": {
  "kernelspec": {
   "display_name": "jobs",
   "language": "python",
   "name": "python3"
  },
  "language_info": {
   "codemirror_mode": {
    "name": "ipython",
    "version": 3
   },
   "file_extension": ".py",
   "mimetype": "text/x-python",
   "name": "python",
   "nbconvert_exporter": "python",
   "pygments_lexer": "ipython3",
   "version": "3.12.3"
  }
 },
 "nbformat": 4,
 "nbformat_minor": 2
}
